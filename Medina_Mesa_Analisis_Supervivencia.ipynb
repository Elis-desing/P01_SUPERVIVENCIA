{
 "cells": [
  {
   "cell_type": "markdown",
   "id": "0004dbc9",
   "metadata": {
    "slideshow": {
     "slide_type": "slide"
    }
   },
   "source": [
    "<div style=\"display: flex; align-items: center;\">\n",
    "    <div style=\"flex: 1; font-family: Arial, sans-serif; text-align: center;\">\n",
    "        <h1>UNIVERSIDAD CENTRAL DEL ECUADOR</h1>\n",
    "        <h2>FACULTAD DE CIENCIAS ECONÓMICAS</h2>\n",
    "        <h3>ESCUELA DE INGENIERÍA ESTADÍSTICA</h3>\n",
    "        <h4>SURVIVAL ANALYSIS</h4>\n",
    "    </div>\n",
    "    <div style=\"flex: 1; text-align: right;\">\n",
    "        <img src=\"ACTUARIAL/Analisis.png\" alt=\"Descripción de la imagen\">\n",
    "    </div>\n",
    "</div>"
   ]
  },
  {
   "cell_type": "markdown",
   "id": "bd6fe598",
   "metadata": {
    "slideshow": {
     "slide_type": "slide"
    }
   },
   "source": [
    "<div style=\"background-color: #AEEEEE; color: black; padding: 20px; text-align: center;\">\n",
    "    <h1>ANÁLISIS DE SUPERVIVENCIA</h1>\n",
    "</div>\n",
    "\n",
    "**¿Qué es el Análisis de Supervivencia?**\n",
    "\n",
    "\n",
    "- El análisis de supervivencia examina y modela el tiempo que tardan en producirse lo que se denomina “eventos aleatorios”.\n",
    "- El resultado que se recoge es:\n",
    "  1. El tiempo que acontece el suceso.\n",
    "  2. Tiempo transcurrido hasta la finalización del período de seguimiento del experimento.\n"
   ]
  },
  {
   "cell_type": "markdown",
   "id": "28a21033",
   "metadata": {
    "slideshow": {
     "slide_type": "subslide"
    }
   },
   "source": [
    "<img src=\"ACTUARIAL/Historia.png\" alt=\"Descripción de la imagen\" style=\"width: 100%; height: auto;\">"
   ]
  },
  {
   "cell_type": "markdown",
   "id": "6953e748",
   "metadata": {
    "slideshow": {
     "slide_type": "subslide"
    }
   },
   "source": [
    "\n",
    "<img src=\"ACTUARIAL/Evento.png\" alt=\"Descripción de la imagen\" style=\"width: 100%; height: auto;\">"
   ]
  },
  {
   "cell_type": "markdown",
   "id": "551ae0e0",
   "metadata": {
    "slideshow": {
     "slide_type": "slide"
    }
   },
   "source": [
    "<div style=\"background-color: #AEEEEE; color: black; padding: 20px; text-align: center;\">\n",
    "    <h1>DATOS CENSURADOS O INCOMPLETOS</h1>\n",
    "</div>\n",
    "\n",
    "<img src=\"ACTUARIAL/Datos.png\" alt=\"Descripción de la imagen\" style=\"width: 70%; height: auto;\">\n",
    "\n"
   ]
  },
  {
   "cell_type": "markdown",
   "id": "17925f01",
   "metadata": {
    "slideshow": {
     "slide_type": "subslide"
    }
   },
   "source": [
    "**Representación Gráfica**\n",
    "\n",
    "<img src=\"ACTUARIAL/Representación.png\" alt=\"Descripción de la imagen\" style=\"width: 70%; height: auto;\">\n"
   ]
  },
  {
   "cell_type": "markdown",
   "id": "9160be29",
   "metadata": {
    "slideshow": {
     "slide_type": "subslide"
    }
   },
   "source": [
    "- Se centra en estudiar la función de distribución del tiempo de supervivencia o tiempo hasta que ocurre el evento de interés.\n",
    "- Tiene en cuenta los eventos que se vuelven inobservables después de un cierto punto de tiempo o no ocurren durante el período de monitoreo.\n",
    "\n"
   ]
  },
  {
   "cell_type": "markdown",
   "id": "bbaac4b0",
   "metadata": {
    "slideshow": {
     "slide_type": "slide"
    }
   },
   "source": [
    "<div style=\"background-color: #AEEEEE; color: black; padding: 20px; text-align: center;\">\n",
    "    <h1>FUNCIONES DE SUPERVIVENCIA</h1>\n",
    "</div>\n",
    "\n",
    "Si 𝑓(𝑡) denota la función de densidad de probabilidad para la variable aleatoria 𝑇, tiempo de supervivencia, y 𝐹(𝑡) a la correspondiente función de distribución; entonces, se define la función de supervivencia 𝑆(𝑡) como la probabilidad de sobrevivir al menos hasta el instante 𝑡:\n",
    "\n",
    "<center>𝑆(𝑡)=𝑃(𝑇>𝑡)=1−𝐹(𝑡)<center>\n",
    "\n"
   ]
  },
  {
   "cell_type": "markdown",
   "id": "8f17a67d",
   "metadata": {
    "slideshow": {
     "slide_type": "subslide"
    }
   },
   "source": [
    "<div style=\"background-color: white; color: black; padding: 15px; text-align: center;\">\n",
    "    <h1>Función Hazard</h1>\n",
    "</div>\n",
    "<img src=\"ACTUARIAL/Hazard.png\" alt=\"Descripción de la imagen\" style=\"width: 100%; height: auto;\">\n"
   ]
  },
  {
   "cell_type": "markdown",
   "id": "7de934c4",
   "metadata": {
    "slideshow": {
     "slide_type": "subslide"
    }
   },
   "source": [
    "<div style=\"background-color: white; color: black; padding: 15px; text-align: center;\">\n",
    "    <h1>Función Hazard Acumulada</h1>\n",
    "</div>\n",
    "\n",
    "<center>A mayor tiempo transcurrido, mayor probabilidad de que ocurra el evento de interés:<center>\n",
    "    \n",
    "    \n",
    "<center>𝐻(𝑡)=−log⁡[𝑆(𝑡)]<center>"
   ]
  },
  {
   "cell_type": "markdown",
   "id": "2a128f1d",
   "metadata": {
    "slideshow": {
     "slide_type": "slide"
    }
   },
   "source": [
    "<div style=\"background-color: #AEEEEE; color: black; padding: 20px; text-align: center;\">\n",
    "    <h1>MODELOS DE SUPERVIVENCIA</h1>\n",
    "</div>\n",
    "<img src=\"ACTUARIAL/Modelos.png\" alt=\"Descripción de la imagen\" style=\"width: 100%; height: auto;\">\n"
   ]
  },
  {
   "cell_type": "markdown",
   "id": "0fb6f973",
   "metadata": {
    "slideshow": {
     "slide_type": "subslide"
    }
   },
   "source": [
    "<div style=\"background-color: white; color: black; padding: 15px; text-align: center;\">\n",
    "    <h1>Cox Proportional Hazard</h1>\n",
    "</div>\n",
    "\n",
    "- Modelo de regression.\n",
    "- Investigaciones médicas: asociación entre el tiempo de sobrevivencia de los pacientes y una o más variables predictoras.\n",
    "- Funciona con variables predictoras cuantitativas y categóricas.\n",
    "\n",
    "<img src=\"ACTUARIAL/Cox1.png\" alt=\"Descripción de la imagen\" style=\"width: 40%; height: auto;\">"
   ]
  },
  {
   "cell_type": "markdown",
   "id": "0174e22f",
   "metadata": {
    "slideshow": {
     "slide_type": "subslide"
    }
   },
   "source": [
    "<img src=\"ACTUARIAL/Cox2.png\" alt=\"Descripción de la imagen\" style=\"width: 70%; height: auto;\">"
   ]
  },
  {
   "cell_type": "markdown",
   "id": "7d3f37ca",
   "metadata": {
    "slideshow": {
     "slide_type": "subslide"
    }
   },
   "source": [
    "<img src=\"ACTUARIAL/Cox3.png\" alt=\"Descripción de la imagen\" style=\"width: 70%; height: auto;\">"
   ]
  },
  {
   "cell_type": "markdown",
   "id": "9fd85e0f",
   "metadata": {
    "slideshow": {
     "slide_type": "subslide"
    }
   },
   "source": [
    "<img src=\"ACTUARIAL/Cox4.png\" alt=\"Descripción de la imagen\" style=\"width: 70%; height: auto;\">"
   ]
  },
  {
   "cell_type": "markdown",
   "id": "4a1adbea",
   "metadata": {},
   "source": [
    "<center>Para facilidad de interpretación:<center>\n",
    "\n",
    "<center>log⁡(ℎ(𝑡,𝑋))=log⁡[(ℎ(𝑡))+𝑋𝛽]<center>"
   ]
  },
  {
   "cell_type": "markdown",
   "id": "d80eca59",
   "metadata": {
    "slideshow": {
     "slide_type": "slide"
    }
   },
   "source": [
    "<div style=\"background-color: #AEEEEE; color: black; padding: 20px; text-align: center;\">\n",
    "    <h1>APLICACIÓN MODELO DE COX</h1>\n",
    "</div>\n"
   ]
  },
  {
   "cell_type": "markdown",
   "id": "f4f680b1",
   "metadata": {},
   "source": [
    "Los datos siguientes provienen de un estudio de supervivencia en pacientes con cáncer de pulmón avanzado del North Central Cancer Treatment Group. A cada paciente se le pasan diferentes test para medir su capacidad para desempeñarse habitualmente, así como variables asociadas con su alimentación. El conjunto de variable consideradas son: inst (código de la institución), time (tiempo de supervivencia en días), status (estado de la censura 1=censurado, 2=muerto), age (edad en años), sex (masculino=1 femenino=2), ph.ecog (puntuación del test ECOG (0=buen estado 5=muerto)), ph.karno (puntuación del test de Karnofsky (malo=0-bueno=100)), pat.karno (test de Karnofsky estandarizado por paciente), meal.cal (consumo de calorias), wt.loss (peso pérdido en los últimos seis meses). Se desea estudiar la supervivencia de los pacientes en función de las variables registradas."
   ]
  },
  {
   "cell_type": "code",
   "execution_count": 1,
   "id": "cfb7be8b",
   "metadata": {
    "slideshow": {
     "slide_type": "skip"
    }
   },
   "outputs": [
    {
     "data": {
      "text/html": [
       "\n",
       "    <button type=\"button\" id=\"cero\" onclick=\"code_toggle('cero')\">Codigo</button>\n",
       "    <script>\n",
       "    function code_toggle(my_id) {\n",
       "        // get the parent element for the cell code and output\n",
       "        var p = $(\"#\"+my_id);\n",
       "        if (p.length==0) return;\n",
       "        while (!p.hasClass(\"cell\")) {\n",
       "            p = p.parent();\n",
       "            if (p.prop(\"tagName\") ==\"body\") return;\n",
       "        }\n",
       "    // get the cell code and toggle its value\n",
       "    var cell_code = p.find(\".input\");\n",
       "    cell_code.toggle();\n",
       "    }\n",
       "    </script>\n",
       "    "
      ]
     },
     "metadata": {},
     "output_type": "display_data"
    }
   ],
   "source": [
    "def toggle_cell_code(button_id):\n",
    "    \"\"\"\n",
    "    Adds a button to toggle (show/hide) the code cell but not the output. \n",
    "    \n",
    "    Parameters\n",
    "    ----------\n",
    "    button_id : str\n",
    "        An identifier for cells that will hide/show when button is pressed.\n",
    "    \"\"\"\n",
    "    \n",
    "    from IPython.display import display_html\n",
    "    my_html = '''\n",
    "    <button type=\"button\" id=\"%s\" onclick=\"code_toggle('%s')\">Codigo</button>\n",
    "    <script>\n",
    "    function code_toggle(my_id) {\n",
    "        // get the parent element for the cell code and output\n",
    "        var p = $(\"#\"+my_id);\n",
    "        if (p.length==0) return;\n",
    "        while (!p.hasClass(\"cell\")) {\n",
    "            p = p.parent();\n",
    "            if (p.prop(\"tagName\") ==\"body\") return;\n",
    "        }\n",
    "    // get the cell code and toggle its value\n",
    "    var cell_code = p.find(\".input\");\n",
    "    cell_code.toggle();\n",
    "    }\n",
    "    </script>\n",
    "    ''' %(button_id, button_id)\n",
    "    return display_html(my_html, raw=True)\n",
    "toggle_cell_code(\"cero\")"
   ]
  },
  {
   "cell_type": "markdown",
   "id": "07cd7a55",
   "metadata": {
    "slideshow": {
     "slide_type": "subslide"
    }
   },
   "source": [
    "<div style=\"background-color: white; color: black; padding: 20px; text-align: center;\">\n",
    "    <h1>Análisis Inicial</h1>\n",
    "</div>"
   ]
  },
  {
   "cell_type": "code",
   "execution_count": 4,
   "id": "392bbe48",
   "metadata": {
    "slideshow": {
     "slide_type": "-"
    }
   },
   "outputs": [
    {
     "data": {
      "text/html": [
       "\n",
       "    <button type=\"button\" id=\"uno\" onclick=\"code_toggle('uno')\">Codigo</button>\n",
       "    <script>\n",
       "    function code_toggle(my_id) {\n",
       "        // get the parent element for the cell code and output\n",
       "        var p = $(\"#\"+my_id);\n",
       "        if (p.length==0) return;\n",
       "        while (!p.hasClass(\"cell\")) {\n",
       "            p = p.parent();\n",
       "            if (p.prop(\"tagName\") ==\"body\") return;\n",
       "        }\n",
       "    // get the cell code and toggle its value\n",
       "    var cell_code = p.find(\".input\");\n",
       "    cell_code.toggle();\n",
       "    }\n",
       "    </script>\n",
       "    "
      ]
     },
     "metadata": {},
     "output_type": "display_data"
    },
    {
     "name": "stdout",
     "output_type": "stream",
     "text": [
      "  inst time status age  sex ph.ecog ph.karno pat.karno meal.cal wt.loss\n",
      "1    3  306      2  74 Male       1       90       100     1175      NA\n",
      "2    3  455      2  68 Male       0       90        90     1225      15\n",
      "3    3 1010      1  56 Male       0       90        90       NA      15\n",
      "4    5  210      2  57 Male       1       90        60     1150      11\n",
      "5    1  883      2  60 Male       0      100        90       NA       0\n",
      "6   12 1022      1  74 Male       1       50        80      513       0\n",
      "  censurado\n",
      "1         1\n",
      "2         1\n",
      "3         0\n",
      "4         1\n",
      "5         1\n",
      "6         0\n"
     ]
    }
   ],
   "source": [
    "toggle_cell_code(\"uno\")\n",
    "import rpy2.robjects as robjects\n",
    "import warnings\n",
    "warnings.filterwarnings('ignore')\n",
    "# Código R a ejecutar\n",
    "r_code = '''\n",
    "options(warn = -1)\n",
    "library(ggplot2)\n",
    "library(dplyr)\n",
    "library(ggpubr)\n",
    "library(survival)\n",
    "library(survminer)\n",
    "library(prodlim)\n",
    "library(pec)\n",
    "library(descr)\n",
    "library(forcats)\n",
    "#Importar Datos\n",
    "data(\"lung\")\n",
    "print(head(lung))\n",
    "#\n",
    "'''\n",
    "# Ejecutar el código R en Python\n",
    "robjects.r(r_code)"
   ]
  },
  {
   "cell_type": "code",
   "execution_count": 3,
   "id": "b3ddf549",
   "metadata": {
    "slideshow": {
     "slide_type": "subslide"
    }
   },
   "outputs": [
    {
     "data": {
      "text/html": [
       "\n",
       "    <button type=\"button\" id=\"dos\" onclick=\"code_toggle('dos')\">Codigo</button>\n",
       "    <script>\n",
       "    function code_toggle(my_id) {\n",
       "        // get the parent element for the cell code and output\n",
       "        var p = $(\"#\"+my_id);\n",
       "        if (p.length==0) return;\n",
       "        while (!p.hasClass(\"cell\")) {\n",
       "            p = p.parent();\n",
       "            if (p.prop(\"tagName\") ==\"body\") return;\n",
       "        }\n",
       "    // get the cell code and toggle its value\n",
       "    var cell_code = p.find(\".input\");\n",
       "    cell_code.toggle();\n",
       "    }\n",
       "    </script>\n",
       "    "
      ]
     },
     "metadata": {},
     "output_type": "display_data"
    },
    {
     "name": "stdout",
     "output_type": "stream",
     "text": [
      "Call: survfit(formula = Surv(time, censurado) ~ 1, data = lung)\n",
      "\n",
      "       n events median 0.95LCL 0.95UCL\n",
      "[1,] 228    165    310     285     363\n"
     ]
    }
   ],
   "source": [
    "toggle_cell_code(\"dos\")\n",
    "# Código R a ejecutar\n",
    "r_code = '''\n",
    "lung <- lung %>% \n",
    "  mutate(censurado = status - 1,\n",
    "         sex = fct_recode(as.factor(sex),\"Male\" = \"1\", \"Female\" = \"2\"))\n",
    "# Estimación\n",
    "fit <- survfit(Surv(time,censurado) ~ 1, data = lung)\n",
    "print(fit)\n",
    "'''\n",
    "# Ejecutar el código R en Python\n",
    "robjects.r(r_code)\n"
   ]
  },
  {
   "cell_type": "markdown",
   "id": "4cef3756",
   "metadata": {},
   "source": [
    "Se puede observar el resumen de la mediana  de supervivencia del todo el conjunto de datos. La mediana de supervivencia se sitúa en 310 días con un intervalo de confianza del 95% entre 285 y 363 días. A continuación se realiza el análisis considerando la variable ‘sexo’ que indica el \"tratamiento\" del sujeto. Representamos las curvas de supervivencia, la mediana de supervivencia, y el pvalor del contraste de comparación de funciones hazard.\n"
   ]
  },
  {
   "cell_type": "code",
   "execution_count": 5,
   "id": "95893686",
   "metadata": {
    "slideshow": {
     "slide_type": "subslide"
    }
   },
   "outputs": [
    {
     "data": {
      "text/html": [
       "\n",
       "    <button type=\"button\" id=\"tres\" onclick=\"code_toggle('tres')\">Codigo</button>\n",
       "    <script>\n",
       "    function code_toggle(my_id) {\n",
       "        // get the parent element for the cell code and output\n",
       "        var p = $(\"#\"+my_id);\n",
       "        if (p.length==0) return;\n",
       "        while (!p.hasClass(\"cell\")) {\n",
       "            p = p.parent();\n",
       "            if (p.prop(\"tagName\") ==\"body\") return;\n",
       "        }\n",
       "    // get the cell code and toggle its value\n",
       "    var cell_code = p.find(\".input\");\n",
       "    cell_code.toggle();\n",
       "    }\n",
       "    </script>\n",
       "    "
      ]
     },
     "metadata": {},
     "output_type": "display_data"
    }
   ],
   "source": [
    "toggle_cell_code(\"tres\")\n",
    "# Gráfica de la función de supervivencia y mediana de supervivencia\n",
    "# Código R a ejecutar\n",
    "r_code = '''\n",
    "# Puedes ajustar las opciones según tus necesidades\n",
    "#my_plot <- ggsurvplot(fit, data = lung, \n",
    "           palette = \"purple\", \n",
    "           conf.int = FALSE, \n",
    "           surv.median.line = \"hv\")\n",
    "# Estimación\n",
    "fit <- survfit(Surv(time,censurado) ~ sex, data = lung)\n",
    "fit\n",
    "# Gráfica de la función de supervivencia e IC\n",
    "#ggsurvplot(fit, data = lung, \n",
    "           conf.int = TRUE, \n",
    "           conf.int.style = \"step\", \n",
    "           surv.median.line = \"hv\", \n",
    "           pval = TRUE)\n",
    "'''\n",
    "\n",
    "# Ejecutar el código R en Python\n",
    "#result = robjects.r(r_code)\n",
    "#print(result)\n"
   ]
  },
  {
   "cell_type": "markdown",
   "id": "0e08538c",
   "metadata": {},
   "source": [
    "**Función de Supervivencia Global y por Sexo**\n",
    "<table>\n",
    "  <tr>\n",
    "    <td>\n",
    "      <img src=\"ACTUARIAL/Grafico1.png\" alt=\"Descripción de la imagen 1\" style=\"width: 80%;\">\n",
    "    </td>\n",
    "    <td>\n",
    "      <img src=\"ACTUARIAL/Grafico2.png\" alt=\"Descripción de la imagen 2\" style=\"width: 80%;\">\n",
    "    </td>\n",
    "  </tr>\n",
    "</table>\n",
    "\n",
    "Podemos ver que si existe  diferencias entre las curvas de supervivencia para los dos grupos considerados a nivel de sexo (p-valor superior a 0.05). \n",
    " "
   ]
  },
  {
   "cell_type": "markdown",
   "id": "ae393789",
   "metadata": {
    "slideshow": {
     "slide_type": "subslide"
    }
   },
   "source": [
    "<div style=\"background-color: white; color: black; padding: 20px; text-align: center;\">\n",
    "    <h1>Modelo de Supervivencia</h1>\n",
    "</div>\n"
   ]
  },
  {
   "cell_type": "code",
   "execution_count": 9,
   "id": "21a62a13",
   "metadata": {},
   "outputs": [
    {
     "data": {
      "text/html": [
       "\n",
       "    <button type=\"button\" id=\"cuatro\" onclick=\"code_toggle('cuatro')\">Codigo</button>\n",
       "    <script>\n",
       "    function code_toggle(my_id) {\n",
       "        // get the parent element for the cell code and output\n",
       "        var p = $(\"#\"+my_id);\n",
       "        if (p.length==0) return;\n",
       "        while (!p.hasClass(\"cell\")) {\n",
       "            p = p.parent();\n",
       "            if (p.prop(\"tagName\") ==\"body\") return;\n",
       "        }\n",
       "    // get the cell code and toggle its value\n",
       "    var cell_code = p.find(\".input\");\n",
       "    cell_code.toggle();\n",
       "    }\n",
       "    </script>\n",
       "    "
      ]
     },
     "metadata": {},
     "output_type": "display_data"
    },
    {
     "name": "stdout",
     "output_type": "stream",
     "text": [
      "Call:\n",
      "coxph(formula = Surv(time, status) ~ sex + age + wt.loss, data = lung)\n",
      "\n",
      "                coef  exp(coef)   se(coef)      z      p\n",
      "sexFemale -0.5210319  0.5939074  0.1743541 -2.988 0.0028\n",
      "age        0.0200882  1.0202913  0.0096644  2.079 0.0377\n",
      "wt.loss    0.0007596  1.0007599  0.0061934  0.123 0.9024\n",
      "\n",
      "Likelihood ratio test=14.67  on 3 df, p=0.002122\n",
      "n= 214, number of events= 152 \n",
      "   (14 observations deleted due to missingness)\n"
     ]
    }
   ],
   "source": [
    "toggle_cell_code(\"cuatro\")\n",
    "r_code = '''\n",
    "# Ajuste del modelo\n",
    "fitcom <- coxph(Surv(time, status) ~ sex + age + wt.loss, data = lung)\n",
    "# Resumen del modelo ajustado\n",
    "print(fitcom)\n",
    "# Gráfico de la relevancia de los coeficientes\n",
    "#ggforest(fitcom)\n",
    "#ggadjustedcurves(fitcom, data=lung, variable = \"sex\", palette = \"lancet\")\n",
    "# Edad\n",
    "# Variable  artificial\n",
    "#lung$agenew <- cut(lung$age,quantile(lung$age,na.rm = TRUE))\n",
    "# Gráfico de supervivencia para sex\n",
    "#ggadjustedcurves(fitcom, data=lung, variable = \"agenew\",  palette = \"lancet\")\n",
    "'''\n",
    "# Ejecutar el código R en Python\n",
    "robjects.r(r_code)"
   ]
  },
  {
   "cell_type": "markdown",
   "id": "3f683550",
   "metadata": {},
   "source": [
    "Una vez ejecutado el Cox Proportional Hazard se puede notar en primer lugar que se está en presencia de un buen modelo de regresión, donde las variables sexo y edad son las que explican de mejor forma la ocurrencia o no del evento de estudio (muerte del individuo).\n",
    "Analizando al sexo, se puede concluir que, si el individuo es mujer, tiene un 59.4% menos probabilidad de fallecer respecto a los hombres. De esta forma se evidencia que las mujeres tienen mejor pronóstico de vida respecto a los hombres\n",
    "Por el lado de la edad, por cada año adicional que tenga la persona, su probabilidad de fallecer va a incrementarse en un 102%.\n",
    "El test global indica que el modelo construido es útil para explicar la supervivencia de los sujetos. Veamos el análisis gráfico de los coeficientes del modelo:"
   ]
  },
  {
   "cell_type": "markdown",
   "id": "26ecadaf",
   "metadata": {
    "slideshow": {
     "slide_type": "subslide"
    }
   },
   "source": [
    "**Gráfico de la Relevancia de los Coeficientes**\n",
    "<img src=\"ACTUARIAL/Gráfico3.png\" alt=\"Descripción de la imagen\" style=\"width: 80%; height: auto;\">"
   ]
  },
  {
   "cell_type": "markdown",
   "id": "0f739b5b",
   "metadata": {
    "slideshow": {
     "slide_type": "subslide"
    }
   },
   "source": [
    "**Curvas de Supervivencia por Sexo y Edad**\n",
    "\n",
    "<table>\n",
    "  <tr>\n",
    "    <td>\n",
    "      <img src=\"ACTUARIAL/Grafico4.png\" alt=\"Descripción de la imagen 1\" style=\"width: 80%;\">\n",
    "    </td>\n",
    "    <td>\n",
    "      <img src=\"ACTUARIAL/Grafico5.png\" alt=\"Descripción de la imagen 2\" style=\"width: 80%;\">\n",
    "    </td>\n",
    "  </tr>\n",
    "</table>\n",
    " "
   ]
  },
  {
   "cell_type": "markdown",
   "id": "5ea6a604",
   "metadata": {
    "slideshow": {
     "slide_type": "subslide"
    }
   },
   "source": [
    "### Tests de riesgos proporcionales\n",
    "\n",
    "Sostiene que el cociente de las tasas de riesgo entre dos grupos comparables es constante y no cambia con el tiempo. Si esta hipótesis se cumple, es apropiado utilizar el modelo de riesgos proporcionales de Cox para analizar los datos de supervivencia."
   ]
  },
  {
   "cell_type": "code",
   "execution_count": 22,
   "id": "31cbcd91",
   "metadata": {},
   "outputs": [
    {
     "data": {
      "text/html": [
       "\n",
       "    <button type=\"button\" id=\"cuatro_0\" onclick=\"code_toggle('cuatro_0')\">Codigo</button>\n",
       "    <script>\n",
       "    function code_toggle(my_id) {\n",
       "        // get the parent element for the cell code and output\n",
       "        var p = $(\"#\"+my_id);\n",
       "        if (p.length==0) return;\n",
       "        while (!p.hasClass(\"cell\")) {\n",
       "            p = p.parent();\n",
       "            if (p.prop(\"tagName\") ==\"body\") return;\n",
       "        }\n",
       "    // get the cell code and toggle its value\n",
       "    var cell_code = p.find(\".input\");\n",
       "    cell_code.toggle();\n",
       "    }\n",
       "    </script>\n",
       "    "
      ]
     },
     "metadata": {},
     "output_type": "display_data"
    },
    {
     "name": "stdout",
     "output_type": "stream",
     "text": [
      "         chisq df    p\n",
      "sex     2.5489  1 0.11\n",
      "age     0.5077  1 0.48\n",
      "wt.loss 0.0144  1 0.90\n",
      "GLOBAL  3.0051  3 0.39\n"
     ]
    }
   ],
   "source": [
    "toggle_cell_code(\"cuatro_0\")\n",
    "r_code = '''\n",
    "ftest <- cox.zph(fitcom)\n",
    "print(ftest)\n",
    "'''\n",
    "# Ejecutar el código R en Python\n",
    "robjects.r(r_code)"
   ]
  },
  {
   "cell_type": "markdown",
   "id": "c7bdd54d",
   "metadata": {},
   "source": [
    "Dado que el pvalor asociado del test resulta no significativo no podemos descartar la hipótesis de riesgos proporcionales asociados con la variable sexo, age y peso."
   ]
  },
  {
   "cell_type": "markdown",
   "id": "fd00acd4",
   "metadata": {
    "slideshow": {
     "slide_type": "subslide"
    }
   },
   "source": [
    "### Observaciones Influyentes"
   ]
  },
  {
   "cell_type": "code",
   "execution_count": 25,
   "id": "9c5cb5c8",
   "metadata": {},
   "outputs": [
    {
     "data": {
      "text/html": [
       "\n",
       "    <button type=\"button\" id=\"cuatro_1\" onclick=\"code_toggle('cuatro_1')\">Codigo</button>\n",
       "    <script>\n",
       "    function code_toggle(my_id) {\n",
       "        // get the parent element for the cell code and output\n",
       "        var p = $(\"#\"+my_id);\n",
       "        if (p.length==0) return;\n",
       "        while (!p.hasClass(\"cell\")) {\n",
       "            p = p.parent();\n",
       "            if (p.prop(\"tagName\") ==\"body\") return;\n",
       "        }\n",
       "    // get the cell code and toggle its value\n",
       "    var cell_code = p.find(\".input\");\n",
       "    cell_code.toggle();\n",
       "    }\n",
       "    </script>\n",
       "    "
      ]
     },
     "metadata": {},
     "output_type": "display_data"
    },
    {
     "data": {
      "text/plain": [
       "<rpy2.rinterface_lib.sexp.NULLType object at 0x000002394DDA11C0> [RTYPES.NILSXP]"
      ]
     },
     "execution_count": 25,
     "metadata": {},
     "output_type": "execute_result"
    }
   ],
   "source": [
    "toggle_cell_code(\"cuatro_1\")\n",
    "r_code = '''\n",
    "# Observaciones influyentes\n",
    "#ggcoxdiagnostics(fitcomp, type = \"deviance\", linear.predictions = FALSE)\n",
    "'''\n",
    "# Ejecutar el código R en Python\n",
    "robjects.r(r_code)"
   ]
  },
  {
   "cell_type": "markdown",
   "id": "1620d58a",
   "metadata": {},
   "source": [
    "<img src=\"ACTUARIAL/Grafico9.png\" alt=\"Descripción de la imagen\" style=\"width: 70%; height: auto;\">"
   ]
  },
  {
   "cell_type": "markdown",
   "id": "f64f014e",
   "metadata": {
    "slideshow": {
     "slide_type": "subslide"
    }
   },
   "source": [
    "### No Linealidad\n"
   ]
  },
  {
   "cell_type": "code",
   "execution_count": 27,
   "id": "7644c14f",
   "metadata": {},
   "outputs": [
    {
     "data": {
      "text/html": [
       "\n",
       "    <button type=\"button\" id=\"cuatro_2\" onclick=\"code_toggle('cuatro_2')\">Codigo</button>\n",
       "    <script>\n",
       "    function code_toggle(my_id) {\n",
       "        // get the parent element for the cell code and output\n",
       "        var p = $(\"#\"+my_id);\n",
       "        if (p.length==0) return;\n",
       "        while (!p.hasClass(\"cell\")) {\n",
       "            p = p.parent();\n",
       "            if (p.prop(\"tagName\") ==\"body\") return;\n",
       "        }\n",
       "    // get the cell code and toggle its value\n",
       "    var cell_code = p.find(\".input\");\n",
       "    cell_code.toggle();\n",
       "    }\n",
       "    </script>\n",
       "    "
      ]
     },
     "metadata": {},
     "output_type": "display_data"
    },
    {
     "data": {
      "text/plain": [
       "<rpy2.rinterface_lib.sexp.NULLType object at 0x000002394DDA11C0> [RTYPES.NILSXP]"
      ]
     },
     "execution_count": 27,
     "metadata": {},
     "output_type": "execute_result"
    }
   ],
   "source": [
    "toggle_cell_code(\"cuatro_2\")\n",
    "r_code = '''\n",
    "# No linealidad\n",
    "#ggcoxdiagnostics(fitcomp, type = \"schoenfeld\",ox.scale = \"time\")\n",
    "'''\n",
    "# Ejecutar el código R en Python\n",
    "robjects.r(r_code)"
   ]
  },
  {
   "cell_type": "markdown",
   "id": "8d6ec4a8",
   "metadata": {},
   "source": [
    "<img src=\"ACTUARIAL/Grafico10.png\" alt=\"Descripción de la imagen\" style=\"width: 70%; height: auto;\">"
   ]
  },
  {
   "cell_type": "markdown",
   "id": "72bfc81c",
   "metadata": {
    "slideshow": {
     "slide_type": "subslide"
    }
   },
   "source": [
    "## Puntos de Corte de la Variable Edad y Peso"
   ]
  },
  {
   "cell_type": "code",
   "execution_count": 11,
   "id": "34580920",
   "metadata": {
    "slideshow": {
     "slide_type": "-"
    }
   },
   "outputs": [
    {
     "data": {
      "text/html": [
       "\n",
       "    <button type=\"button\" id=\"cinco\" onclick=\"code_toggle('cinco')\">Codigo</button>\n",
       "    <script>\n",
       "    function code_toggle(my_id) {\n",
       "        // get the parent element for the cell code and output\n",
       "        var p = $(\"#\"+my_id);\n",
       "        if (p.length==0) return;\n",
       "        while (!p.hasClass(\"cell\")) {\n",
       "            p = p.parent();\n",
       "            if (p.prop(\"tagName\") ==\"body\") return;\n",
       "        }\n",
       "    // get the cell code and toggle its value\n",
       "    var cell_code = p.find(\".input\");\n",
       "    cell_code.toggle();\n",
       "    }\n",
       "    </script>\n",
       "    "
      ]
     },
     "metadata": {},
     "output_type": "display_data"
    },
    {
     "name": "stdout",
     "output_type": "stream",
     "text": [
      "        cutpoint statistic\n",
      "age           70  2.013619\n",
      "wt.loss        9  1.756750\n"
     ]
    }
   ],
   "source": [
    "toggle_cell_code(\"cinco\")\n",
    "r_code = '''\n",
    "# Puntos de corte\n",
    "corte <- surv_cutpoint(lung, time = \"time\", \n",
    "              event = \"status\", \n",
    "              variables = c(\"age\",\"wt.loss\"))\n",
    "print(corte)\n",
    "'''\n",
    "# Ejecutar el código R en Python\n",
    "robjects.r(r_code)"
   ]
  },
  {
   "cell_type": "markdown",
   "id": "6185f97d",
   "metadata": {},
   "source": [
    "El valor para edad se sitúa en los 70 años mientras que para la pérdida de peso es de 9kg. "
   ]
  },
  {
   "cell_type": "markdown",
   "id": "a9c63823",
   "metadata": {
    "slideshow": {
     "slide_type": "subslide"
    }
   },
   "source": [
    "### Representación de las Curvas de Supervivencia de la Edad y Peso usando Puntos de Corte"
   ]
  },
  {
   "cell_type": "code",
   "execution_count": 18,
   "id": "34bd66f2",
   "metadata": {},
   "outputs": [
    {
     "data": {
      "text/html": [
       "\n",
       "    <button type=\"button\" id=\"seis\" onclick=\"code_toggle('seis')\">Codigo</button>\n",
       "    <script>\n",
       "    function code_toggle(my_id) {\n",
       "        // get the parent element for the cell code and output\n",
       "        var p = $(\"#\"+my_id);\n",
       "        if (p.length==0) return;\n",
       "        while (!p.hasClass(\"cell\")) {\n",
       "            p = p.parent();\n",
       "            if (p.prop(\"tagName\") ==\"body\") return;\n",
       "        }\n",
       "    // get the cell code and toggle its value\n",
       "    var cell_code = p.find(\".input\");\n",
       "    cell_code.toggle();\n",
       "    }\n",
       "    </script>\n",
       "    "
      ]
     },
     "metadata": {},
     "output_type": "display_data"
    }
   ],
   "source": [
    "toggle_cell_code(\"seis\")\n",
    "r_code = '''\n",
    "# Variable  artificial edad\n",
    "lung$agenew <- ifelse(lung$age>=corte$age$estimate,\"+70\",\"-70\")\n",
    "lung$wtnew <- ifelse(lung$wt.loss>=corte$wt.loss$estimate,\"+9\",\"-9\")\n",
    "# Gráfico de supervivencia para edad\n",
    "# ggadjustedcurves(fitcom, data=lung,variable = \"agenew\", palette = \"lancet\")\n",
    "# Gráfico de supervivencia para pérdida de peso\n",
    "#ggadjustedcurves(fitcom, data=lung, variable = \"wtnew\", palette = \"lancet\")\n",
    "'''\n",
    "# Ejecutar el código R en Python\n",
    "robjects.r(r_code)"
   ]
  },
  {
   "cell_type": "markdown",
   "id": "d17c7aa8",
   "metadata": {},
   "source": [
    "<table>\n",
    "  <tr>\n",
    "    <td>\n",
    "      <img src=\"ACTUARIAL/Grafico6.png\" alt=\"Descripción de la imagen 1\" style=\"width: 80%;\">\n",
    "    </td>\n",
    "    <td>\n",
    "      <img src=\"ACTUARIAL/Grafico7.png\" alt=\"Descripción de la imagen 2\" style=\"width: 80%;\">\n",
    "    </td>\n",
    "  </tr>\n",
    "</table>"
   ]
  },
  {
   "cell_type": "markdown",
   "id": "e4dfc106",
   "metadata": {
    "slideshow": {
     "slide_type": "subslide"
    }
   },
   "source": [
    "## Modelo Ajustado a las Nuevas Variables"
   ]
  },
  {
   "cell_type": "code",
   "execution_count": 20,
   "id": "d19f4146",
   "metadata": {},
   "outputs": [
    {
     "data": {
      "text/html": [
       "\n",
       "    <button type=\"button\" id=\"siete\" onclick=\"code_toggle('siete')\">Codigo</button>\n",
       "    <script>\n",
       "    function code_toggle(my_id) {\n",
       "        // get the parent element for the cell code and output\n",
       "        var p = $(\"#\"+my_id);\n",
       "        if (p.length==0) return;\n",
       "        while (!p.hasClass(\"cell\")) {\n",
       "            p = p.parent();\n",
       "            if (p.prop(\"tagName\") ==\"body\") return;\n",
       "        }\n",
       "    // get the cell code and toggle its value\n",
       "    var cell_code = p.find(\".input\");\n",
       "    cell_code.toggle();\n",
       "    }\n",
       "    </script>\n",
       "    "
      ]
     },
     "metadata": {},
     "output_type": "display_data"
    },
    {
     "name": "stdout",
     "output_type": "stream",
     "text": [
      "Call:\n",
      "coxph(formula = Surv(time, status) ~ sex + agenew + wtnew, data = lung)\n",
      "\n",
      "             coef exp(coef) se(coef)      z       p\n",
      "sexFemale -0.5160    0.5969   0.1744 -2.960 0.00308\n",
      "agenew+70  0.3754    1.4555   0.1800  2.086 0.03702\n",
      "wtnew+9    0.2370    1.2675   0.1628  1.456 0.14549\n",
      "\n",
      "Likelihood ratio test=16.34  on 3 df, p=0.0009675\n",
      "n= 214, number of events= 152 \n",
      "   (14 observations deleted due to missingness)\n"
     ]
    }
   ],
   "source": [
    "toggle_cell_code(\"siete\")\n",
    "r_code = '''\n",
    "# Ajuste del modelo\n",
    "fitcomp2 <- coxph(Surv(time, status) ~ sex + agenew + wtnew, data = lung)\n",
    "print(fitcomp2)\n",
    "## Gráfico conjunto de todos los fatores\n",
    "#ggsurvplot_facet(fitcomp2, lung, facet.by = \"wtnew\",palette = \"lancet\", pval = TRUE)\n",
    "'''\n",
    "# Ejecutar el código R en Python\n",
    "robjects.r(r_code)"
   ]
  },
  {
   "cell_type": "markdown",
   "id": "27ca4b8b",
   "metadata": {
    "slideshow": {
     "slide_type": "subslide"
    }
   },
   "source": [
    "### Representación de la Curva de Supervivencia \n",
    "\n",
    "<img src=\"ACTUARIAL/Grafico8.png\" alt=\"Descripción de la imagen\" style=\"width: 70%; height: auto;\">"
   ]
  },
  {
   "cell_type": "markdown",
   "id": "02074fd9",
   "metadata": {
    "slideshow": {
     "slide_type": "subslide"
    }
   },
   "source": [
    "### Test de Riesgos Proporcionales"
   ]
  },
  {
   "cell_type": "code",
   "execution_count": 31,
   "id": "0554b3fa",
   "metadata": {},
   "outputs": [
    {
     "data": {
      "text/html": [
       "\n",
       "    <button type=\"button\" id=\"siete_0\" onclick=\"code_toggle('siete_0')\">Codigo</button>\n",
       "    <script>\n",
       "    function code_toggle(my_id) {\n",
       "        // get the parent element for the cell code and output\n",
       "        var p = $(\"#\"+my_id);\n",
       "        if (p.length==0) return;\n",
       "        while (!p.hasClass(\"cell\")) {\n",
       "            p = p.parent();\n",
       "            if (p.prop(\"tagName\") ==\"body\") return;\n",
       "        }\n",
       "    // get the cell code and toggle its value\n",
       "    var cell_code = p.find(\".input\");\n",
       "    cell_code.toggle();\n",
       "    }\n",
       "    </script>\n",
       "    "
      ]
     },
     "metadata": {},
     "output_type": "display_data"
    },
    {
     "name": "stdout",
     "output_type": "stream",
     "text": [
      "       chisq df    p\n",
      "sex    2.617  1 0.11\n",
      "agenew 0.138  1 0.71\n",
      "wtnew  0.187  1 0.67\n",
      "GLOBAL 2.916  3 0.40\n"
     ]
    }
   ],
   "source": [
    "toggle_cell_code(\"siete_0\")\n",
    "r_code = '''\n",
    "# Tests de riesgos proporcionales\n",
    "ftest <- cox.zph(fitcomp2)\n",
    "print(ftest)\n",
    "'''\n",
    "# Ejecutar el código R en Python\n",
    "robjects.r(r_code)\n",
    "\n",
    "\n"
   ]
  },
  {
   "cell_type": "markdown",
   "id": "d539555b",
   "metadata": {},
   "source": [
    "Dado que el pvalor asociado del test resulta no significativo no podemos descartar la hipótesis de riesgos proporcionales asociados con la variable sexo, agenew y wtnew."
   ]
  },
  {
   "cell_type": "markdown",
   "id": "1fedb82e",
   "metadata": {
    "slideshow": {
     "slide_type": "subslide"
    }
   },
   "source": [
    "### Gráfica de las Observaciones Influyentes y No Linealidad\n",
    "\n"
   ]
  },
  {
   "cell_type": "code",
   "execution_count": 33,
   "id": "a665add1",
   "metadata": {},
   "outputs": [
    {
     "data": {
      "text/html": [
       "\n",
       "    <button type=\"button\" id=\"siete_1\" onclick=\"code_toggle('siete_1')\">Codigo</button>\n",
       "    <script>\n",
       "    function code_toggle(my_id) {\n",
       "        // get the parent element for the cell code and output\n",
       "        var p = $(\"#\"+my_id);\n",
       "        if (p.length==0) return;\n",
       "        while (!p.hasClass(\"cell\")) {\n",
       "            p = p.parent();\n",
       "            if (p.prop(\"tagName\") ==\"body\") return;\n",
       "        }\n",
       "    // get the cell code and toggle its value\n",
       "    var cell_code = p.find(\".input\");\n",
       "    cell_code.toggle();\n",
       "    }\n",
       "    </script>\n",
       "    "
      ]
     },
     "metadata": {},
     "output_type": "display_data"
    },
    {
     "data": {
      "text/plain": [
       "<rpy2.rinterface_lib.sexp.NULLType object at 0x000002394DDA11C0> [RTYPES.NILSXP]"
      ]
     },
     "execution_count": 33,
     "metadata": {},
     "output_type": "execute_result"
    }
   ],
   "source": [
    "toggle_cell_code(\"siete_1\")\n",
    "r_code = '''\n",
    "# Observaciones influyentes\n",
    "#ggcoxdiagnostics(fitcomp2, type = \"deviance\",linear.predictions = FALSE)\n",
    "\n",
    "'''\n",
    "# Ejecutar el código R en Python\n",
    "robjects.r(r_code)"
   ]
  },
  {
   "cell_type": "markdown",
   "id": "92a1e157",
   "metadata": {},
   "source": [
    "<table>\n",
    "  <tr>\n",
    "    <td>\n",
    "      <img src=\"ACTUARIAL/Grafico11.png\" alt=\"Descripción de la imagen 1\" style=\"width: 80%;\">\n",
    "    </td>\n",
    "    <td>\n",
    "      <img src=\"ACTUARIAL/Grafico12.png\" alt=\"Descripción de la imagen 2\" style=\"width: 80%;\">\n",
    "    </td>\n",
    "  </tr>\n",
    "</table>"
   ]
  },
  {
   "cell_type": "markdown",
   "id": "59f55b09",
   "metadata": {},
   "source": [
    "De forma gráfica no se observa la presencia de observaciones influyentes y en el caso de la no linealidad en este modelo se ve que mejora en comparación al anterior."
   ]
  },
  {
   "cell_type": "markdown",
   "id": "5e224478",
   "metadata": {
    "slideshow": {
     "slide_type": "slide"
    }
   },
   "source": [
    "<div style=\"background-color: #AEEEEE; color: black; padding: 20px; text-align: center;\">\n",
    "    <h1>CONCLUSIONES</h1>\n",
    "</div>\n",
    "\n",
    "- El modelo de Cox permite el análisis y la estimación de la tasa de riesgo a lo largo del tiempo, incluso en presencia de datos censurados. Esto lo hace especialmente útil en estudios en los que se siguen a los sujetos durante un período prolongado y algunos de ellos no experimentan el evento de interés o abandonan el estudio antes de que ocurra el evento.\n",
    "\n",
    "- El modelo permite identificar qué factores influyen significativamente en la supervivencia y cuánto afectan a la tasa de riesgo relativo. Esto permite a los investigadores entender mejor la influencia de diferentes variables en el tiempo hasta que ocurra el evento, lo que puede tener importantes implicaciones clínicas y epidemiológicas. "
   ]
  },
  {
   "cell_type": "markdown",
   "id": "ef7d7663",
   "metadata": {
    "slideshow": {
     "slide_type": "slide"
    }
   },
   "source": [
    "<div style=\"background-color: #AEEEEE; color: black; padding: 20px; text-align: center;\">\n",
    "    <h1>REFERENCIAS BIBLIOGRÁFICAS</h1>\n",
    "</div>\n",
    "\n",
    "<img src=\"ACTUARIAL/Referencias.png\" alt=\"Descripción de la imagen\" style=\"width: 80%; height: auto;\">"
   ]
  }
 ],
 "metadata": {
  "celltoolbar": "Slideshow",
  "kernelspec": {
   "display_name": "Python 3 (ipykernel)",
   "language": "python",
   "name": "python3"
  },
  "language_info": {
   "codemirror_mode": {
    "name": "ipython",
    "version": 3
   },
   "file_extension": ".py",
   "mimetype": "text/x-python",
   "name": "python",
   "nbconvert_exporter": "python",
   "pygments_lexer": "ipython3",
   "version": "3.10.9"
  },
  "nbTranslate": {
   "displayLangs": [
    "*"
   ],
   "hotkey": "alt-t",
   "langInMainMenu": true,
   "sourceLang": "en",
   "targetLang": "fr",
   "useGoogleTranslate": true
  },
  "rise": {
   "_transition_options": [
    "none",
    "fade",
    "slide",
    "convex",
    "concave",
    "zoom"
   ],
   "autolauch": true,
   "backimage": "path/to/mybackimage.png",
   "enable_chalkboard": true,
   "footer": "<h3>Integrantes: Medina Elizabeth - Mesa Araisa  </h3>",
   "header": "<h1> CÁLCULO ACTUARIAL </h1>",
   "theme": "white",
   "theme_options": [
    "black",
    "white",
    "league",
    "beige",
    "sky",
    "night",
    "serif"
   ],
   "transition": "slide"
  },
  "varInspector": {
   "cols": {
    "lenName": 16,
    "lenType": 16,
    "lenVar": 40
   },
   "height": "90%",
   "kernels_config": {
    "python": {
     "delete_cmd_postfix": "",
     "delete_cmd_prefix": "del ",
     "library": "var_list.py",
     "varRefreshCmd": "print(var_dic_list())"
    },
    "r": {
     "delete_cmd_postfix": ") ",
     "delete_cmd_prefix": "rm(",
     "library": "var_list.r",
     "varRefreshCmd": "cat(var_dic_list()) "
    }
   },
   "types_to_exclude": [
    "module",
    "function",
    "builtin_function_or_method",
    "instance",
    "_Feature"
   ],
   "width": "90%",
   "window_display": false
  }
 },
 "nbformat": 4,
 "nbformat_minor": 5
}
